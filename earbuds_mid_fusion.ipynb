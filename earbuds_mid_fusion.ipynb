{
 "cells": [
  {
   "cell_type": "markdown",
   "id": "27965532",
   "metadata": {},
   "source": []
  },
  {
   "cell_type": "code",
   "execution_count": 1,
   "id": "cbbf037b",
   "metadata": {},
   "outputs": [],
   "source": [
    "# midfusion_train_complete_fixed.py\n",
    "\n",
    "import torch\n",
    "import torch.nn as nn\n",
    "from torch.utils.data import Dataset, DataLoader, random_split\n",
    "from torchvision.models import resnet50\n",
    "from torchvision.models._utils import IntermediateLayerGetter\n",
    "from torchvision.ops.feature_pyramid_network import FeaturePyramidNetwork\n",
    "from torchvision.models.detection import FasterRCNN\n",
    "from torchvision.models.detection.rpn import AnchorGenerator\n",
    "from torchvision.ops import MultiScaleRoIAlign\n",
    "from torch.optim import AdamW\n",
    "from tqdm import tqdm\n",
    "import cv2\n",
    "import numpy as np\n",
    "from pathlib import Path"
   ]
  },
  {
   "cell_type": "code",
   "execution_count": 2,
   "id": "dc1ac7c7",
   "metadata": {},
   "outputs": [],
   "source": [
    "# ─── Dataset ────────────────────────────────────────────────────────────────────\n",
    "import yaml\n",
    "from pathlib import Path\n",
    "import cv2\n",
    "import numpy as np\n",
    "import torch\n",
    "from torch.utils.data import Dataset\n",
    "\n",
    "class RGBDDetectionDataset(Dataset):\n",
    "    def __init__(self, yaml_path: str, split: str = \"train\", transforms=None):\n",
    "        \"\"\"\n",
    "        Args:\n",
    "            yaml_path: Path to dataset.yaml file\n",
    "            split: \"train\", \"val\", or \"test\"\n",
    "            transforms: Optional transforms\n",
    "        \"\"\"\n",
    "        # Load YAML\n",
    "        yaml_path = Path(yaml_path)\n",
    "        if not yaml_path.exists():\n",
    "            raise FileNotFoundError(f\"YAML file not found: {yaml_path}\")\n",
    "            \n",
    "        with open(yaml_path, \"r\") as f:\n",
    "            data_yaml = yaml.safe_load(f)\n",
    "\n",
    "        if split not in data_yaml:\n",
    "            raise ValueError(f\"Split '{split}' not found in YAML. Available: {list(data_yaml.keys())}\")\n",
    "\n",
    "        # Get the base directory (where YAML is located)\n",
    "        base_dir = yaml_path.parent\n",
    "        \n",
    "        # Try different path resolution methods\n",
    "        split_path_str = data_yaml[split]\n",
    "        \n",
    "        # Method 1: Relative to YAML file\n",
    "        if split_path_str.startswith('../'):\n",
    "            image_dir = base_dir / split_path_str\n",
    "        # Method 2: Absolute path\n",
    "        elif Path(split_path_str).is_absolute():\n",
    "            image_dir = Path(split_path_str)\n",
    "        # Method 3: Relative to base directory\n",
    "        else:\n",
    "            image_dir = base_dir / split_path_str\n",
    "            \n",
    "        # If the path points to images directory directly, use it\n",
    "        if image_dir.name == 'images' and image_dir.exists():\n",
    "            self.image_dir = image_dir\n",
    "            split_dir = image_dir.parent\n",
    "        # If it points to split directory, append images\n",
    "        elif (image_dir / 'images').exists():\n",
    "            split_dir = image_dir\n",
    "            self.image_dir = split_dir / 'images'\n",
    "        # Try going up one level and finding the split\n",
    "        else:\n",
    "            split_dir = base_dir / split\n",
    "            self.image_dir = split_dir / 'images'\n",
    "            \n",
    "        print(f\"Looking for images in: {self.image_dir}\")\n",
    "        \n",
    "        if not self.image_dir.exists():\n",
    "            raise FileNotFoundError(f\"Images directory not found: {self.image_dir}\")\n",
    "\n",
    "        # Find all image files\n",
    "        image_extensions = ['.jpg', '.jpeg', '.png', '.bmp', '.tiff']\n",
    "        self.rgb_paths = []\n",
    "        for ext in image_extensions:\n",
    "            self.rgb_paths.extend(self.image_dir.glob(f\"*{ext}\"))\n",
    "            self.rgb_paths.extend(self.image_dir.glob(f\"*{ext.upper()}\"))\n",
    "        \n",
    "        self.rgb_paths = sorted(self.rgb_paths)\n",
    "        \n",
    "        if len(self.rgb_paths) == 0:\n",
    "            raise ValueError(f\"No images found in {self.image_dir}\")\n",
    "\n",
    "        # Set up other directories\n",
    "        self.depth_dir = split_dir / \"depth\"\n",
    "        self.label_dir = split_dir / \"labels\"\n",
    "        self.transforms = transforms\n",
    "\n",
    "        # Class names and count\n",
    "        self.names = data_yaml.get(\"names\", [])\n",
    "        self.nc = data_yaml.get(\"nc\", len(self.names))\n",
    "        \n",
    "        print(f\"Found {len(self.rgb_paths)} images\")\n",
    "        print(f\"Depth dir: {self.depth_dir} (exists: {self.depth_dir.exists()})\")\n",
    "        print(f\"Label dir: {self.label_dir} (exists: {self.label_dir.exists()})\")\n",
    "\n",
    "    def __len__(self):\n",
    "        return len(self.rgb_paths)\n",
    "\n",
    "    def __getitem__(self, idx):\n",
    "        rgb_path   = self.rgb_paths[idx]\n",
    "        stem       = rgb_path.stem\n",
    "        depth_path = self.depth_dir / f\"{stem}.png\"\n",
    "        label_path = self.label_dir / f\"{stem}.txt\"\n",
    "\n",
    "        # Load RGB\n",
    "        img = cv2.imread(str(rgb_path), cv2.IMREAD_COLOR)\n",
    "        if img is None:\n",
    "            raise ValueError(f\"Could not load RGB image: {rgb_path}\")\n",
    "        img = cv2.cvtColor(img, cv2.COLOR_BGR2RGB).astype(np.float32) / 255.0\n",
    "\n",
    "        # Load Depth\n",
    "        if depth_path.exists():\n",
    "            d = cv2.imread(str(depth_path), cv2.IMREAD_UNCHANGED)\n",
    "            if d is None:\n",
    "                print(f\"Warning: Could not load depth image: {depth_path}, using zeros\")\n",
    "                d = np.zeros(img.shape[:2], dtype=np.float32)\n",
    "            else:\n",
    "                d = d.astype(np.float32)\n",
    "                if len(d.shape) == 3 and d.shape[2] == 3:\n",
    "                    d = cv2.cvtColor(d, cv2.COLOR_RGB2GRAY)\n",
    "                elif len(d.shape) == 3 and d.shape[2] == 1:\n",
    "                    d = d.squeeze(-1)\n",
    "                d /= (d.max() + 1e-6)\n",
    "        else:\n",
    "            print(f\"Warning: Depth file not found: {depth_path}, using zeros\")\n",
    "            d = np.zeros(img.shape[:2], dtype=np.float32)\n",
    "            \n",
    "        d = d[..., None]   # H×W×1\n",
    "\n",
    "        # Load Labels (YOLO txt format: cls xc yc w h)\n",
    "        H, W = img.shape[:2]\n",
    "        boxes = []\n",
    "        if label_path.exists():\n",
    "            try:\n",
    "                with open(label_path) as f:\n",
    "                    for line in f:\n",
    "                        line = line.strip()\n",
    "                        if line:\n",
    "                            parts = line.split()\n",
    "                            if len(parts) >= 5:\n",
    "                                cls, xc, yc, w, h = map(float, parts[:5])\n",
    "                                x0 = max(0, (xc - w/2) * W)\n",
    "                                y0 = max(0, (yc - h/2) * H)\n",
    "                                x1 = min(W, (xc + w/2) * W)\n",
    "                                y1 = min(H, (yc + h/2) * H)\n",
    "                                if x1 > x0 and y1 > y0:  # Valid box\n",
    "                                    boxes.append([x0, y0, x1, y1, int(cls)])\n",
    "            except Exception as e:\n",
    "                print(f\"Warning: Error reading label file {label_path}: {e}\")\n",
    "\n",
    "        if boxes:\n",
    "            boxes = torch.tensor(boxes, dtype=torch.float32)\n",
    "        else:\n",
    "            boxes = torch.zeros((0, 5), dtype=torch.float32)\n",
    "\n",
    "        # Convert to tensors\n",
    "        rgb_t   = torch.from_numpy(img.transpose(2, 0, 1))   # 3×H×W\n",
    "        depth_t = torch.from_numpy(d.transpose(2, 0, 1))     # 1×H×W\n",
    "\n",
    "        target = {\n",
    "            \"boxes\":  boxes[:, :4],\n",
    "            \"labels\": boxes[:, 4].long() + 1   # shift classes for FasterRCNN (0=background)\n",
    "        }\n",
    "\n",
    "        if self.transforms:\n",
    "            rgb_t, depth_t, target = self.transforms(rgb_t, depth_t, target)\n",
    "\n",
    "        return rgb_t, depth_t, target"
   ]
  },
  {
   "cell_type": "code",
   "execution_count": 3,
   "id": "cee89d02",
   "metadata": {},
   "outputs": [],
   "source": [
    "# ─── Collate Function ───────────────────────────────────────────────────────\n",
    "\n",
    "def collate_fn(batch):\n",
    "    rgbs, depths, targets = zip(*batch)\n",
    "    return list(rgbs), list(depths), list(targets)"
   ]
  },
  {
   "cell_type": "code",
   "execution_count": 4,
   "id": "4bf49b34",
   "metadata": {},
   "outputs": [],
   "source": [
    "# ─── Mid‐Level Fusion Backbone ─────────────────────────────────────────────────\n",
    "\n",
    "class MidLevelFusionBackbone(nn.Module):\n",
    "    def __init__(self):\n",
    "        super().__init__()\n",
    "        # RGB ResNet50\n",
    "        res_r = resnet50(pretrained=True)\n",
    "        # Depth ResNet50 (single-channel)\n",
    "        res_d = resnet50(pretrained=False)\n",
    "        res_d.conv1 = nn.Conv2d(1, res_d.conv1.out_channels,\n",
    "                                kernel_size=7, stride=2, padding=3, bias=False)\n",
    "\n",
    "        return_layers = {\"layer1\":\"c2\", \"layer2\":\"c3\", \"layer3\":\"c4\", \"layer4\":\"c5\"}\n",
    "        self.rgb_extractor   = IntermediateLayerGetter(res_r, return_layers)\n",
    "        self.depth_extractor = IntermediateLayerGetter(res_d, return_layers)\n",
    "\n",
    "        # FPN for concatenated features (C2–C5)\n",
    "        in_chs = [256*2, 512*2, 1024*2, 2048*2]\n",
    "        self.fpn = FeaturePyramidNetwork(in_channels_list=in_chs, out_channels=256)\n",
    "        self.out_channels = 256\n",
    "\n",
    "    def forward(self, x):\n",
    "        # x may be a list of Tensors [4×H×W] or a single Tensor [B,4,H,W]\n",
    "        if isinstance(x, (list, tuple)):\n",
    "            x = torch.stack(x, dim=0)\n",
    "        # now x: [B,4,H,W]\n",
    "        rgb   = x[:, :3, :, :]\n",
    "        depth = x[:, 3:4, :, :]\n",
    "\n",
    "        feats_r = self.rgb_extractor(rgb)\n",
    "        feats_d = self.depth_extractor(depth)\n",
    "        fused   = {name: torch.cat([feats_r[name], feats_d[name]], dim=1)\n",
    "                   for name in feats_r}\n",
    "        return self.fpn(fused)"
   ]
  },
  {
   "cell_type": "code",
   "execution_count": 5,
   "id": "76c610f0",
   "metadata": {},
   "outputs": [],
   "source": [
    " # ─── Model Factory ─────────────────────────────────────────────────────────────\n",
    "\n",
    "def build_midfusion_fasterrcnn(num_classes: int):\n",
    "    backbone = MidLevelFusionBackbone()\n",
    "\n",
    "    # 4 FPN levels → one size and aspect_ratios tuple per level\n",
    "    anchor_generator = AnchorGenerator(\n",
    "        sizes=((32,), (64,), (128,), (256,)),\n",
    "        aspect_ratios=((0.5,1.0,2.0),) * 4\n",
    "    )\n",
    "\n",
    "    # ROI pooling on the 4 FPN maps: c2–c5\n",
    "    roi_pool = MultiScaleRoIAlign(\n",
    "        featmap_names=['c2','c3','c4','c5'],\n",
    "        output_size=7,\n",
    "        sampling_ratio=2\n",
    "    )\n",
    "\n",
    "    model = FasterRCNN(\n",
    "        backbone,\n",
    "        num_classes=num_classes,\n",
    "        rpn_anchor_generator=anchor_generator,\n",
    "        box_roi_pool=roi_pool\n",
    "    )\n",
    "    # Normalize 4th channel (depth) with zero-mean\n",
    "    model.transform.image_mean = [0.485, 0.456, 0.406, 0.0]\n",
    "    model.transform.image_std  = [0.229, 0.224, 0.225, 1.0]\n",
    "    return model"
   ]
  },
  {
   "cell_type": "code",
   "execution_count": 6,
   "id": "3c15e72d",
   "metadata": {},
   "outputs": [],
   "source": [
    "# ─── Training & Early Stopping ─────────────────────────────────────────────────\n",
    "\n",
    "def train_one_epoch(model, loader, optimizer, device, epoch):\n",
    "    model.train()\n",
    "    pbar = tqdm(loader, desc=f\"Epoch {epoch} [train]\", unit=\"batch\")\n",
    "    total = 0.0\n",
    "    for rgbs, depths, targets in pbar:\n",
    "        inputs = [torch.cat([r, d], dim=0).to(device)\n",
    "                  for r, d in zip(rgbs, depths)]\n",
    "        tgts = [{k: v.to(device) for k, v in t.items()} for t in targets]\n",
    "\n",
    "        loss_dict = model(inputs, tgts)\n",
    "        loss = sum(loss_dict.values())\n",
    "\n",
    "        optimizer.zero_grad()\n",
    "        loss.backward()\n",
    "        optimizer.step()\n",
    "\n",
    "        total += loss.item()\n",
    "        pbar.set_postfix(train_loss=f\"{loss.item():.4f}\")\n",
    "    pbar.close()\n",
    "    return total / len(loader)\n"
   ]
  },
  {
   "cell_type": "code",
   "execution_count": 7,
   "id": "303f8ba4",
   "metadata": {},
   "outputs": [],
   "source": [
    "@torch.no_grad()\n",
    "def eval_loss(model, loader, device):\n",
    "    # keep train() so loss_dict is returned\n",
    "    model.train()\n",
    "    pbar = tqdm(loader, desc=\"[val]  \", unit=\"batch\")\n",
    "    total = 0.0\n",
    "    for rgbs, depths, targets in pbar:\n",
    "        inputs = [torch.cat([r, d], dim=0).to(device)\n",
    "                  for r, d in zip(rgbs, depths)]\n",
    "        tgts   = [{k: v.to(device) for k, v in t.items()} for t in targets]\n",
    "\n",
    "        loss = sum(model(inputs, tgts).values()).item()\n",
    "        total += loss\n",
    "        pbar.set_postfix(val_loss=f\"{loss:.4f}\")\n",
    "    pbar.close()\n",
    "    return total / len(loader)\n"
   ]
  },
  {
   "cell_type": "code",
   "execution_count": 8,
   "id": "18b2a133",
   "metadata": {},
   "outputs": [
    {
     "name": "stdout",
     "output_type": "stream",
     "text": [
      "Looking for images in: dataset\\train\\images\n",
      "Found 126 images\n",
      "Depth dir: dataset\\train\\depth (exists: True)\n",
      "Label dir: dataset\\train\\labels (exists: True)\n",
      "Looking for images in: dataset\\val\\images\n",
      "Found 32 images\n",
      "Depth dir: dataset\\val\\depth (exists: True)\n",
      "Label dir: dataset\\val\\labels (exists: True)\n",
      "Looking for images in: dataset\\test\\images\n",
      "Found 18 images\n",
      "Depth dir: dataset\\test\\depth (exists: True)\n",
      "Label dir: dataset\\test\\labels (exists: True)\n",
      "4\n",
      "Dataset sizes - Train: 126, Val: 32, Test: 18\n"
     ]
    },
    {
     "name": "stderr",
     "output_type": "stream",
     "text": [
      "v:\\model\\myenv\\lib\\site-packages\\torchvision\\models\\_utils.py:208: UserWarning: The parameter 'pretrained' is deprecated since 0.13 and may be removed in the future, please use 'weights' instead.\n",
      "  warnings.warn(\n",
      "v:\\model\\myenv\\lib\\site-packages\\torchvision\\models\\_utils.py:223: UserWarning: Arguments other than a weight enum or `None` for 'weights' are deprecated since 0.13 and may be removed in the future. The current behavior is equivalent to passing `weights=ResNet50_Weights.IMAGENET1K_V1`. You can also use `weights=ResNet50_Weights.DEFAULT` to get the most up-to-date weights.\n",
      "  warnings.warn(msg)\n",
      "v:\\model\\myenv\\lib\\site-packages\\torchvision\\models\\_utils.py:223: UserWarning: Arguments other than a weight enum or `None` for 'weights' are deprecated since 0.13 and may be removed in the future. The current behavior is equivalent to passing `weights=None`.\n",
      "  warnings.warn(msg)\n",
      "Epoch 1 [train]: 100%|██████████| 16/16 [00:59<00:00,  3.75s/batch, train_loss=0.4407]\n",
      "[val]  : 100%|██████████| 4/4 [00:00<00:00,  4.51batch/s, val_loss=0.4446]\n"
     ]
    },
    {
     "name": "stdout",
     "output_type": "stream",
     "text": [
      "Epoch 01: train_loss=1.0641, val_loss=0.5325\n",
      "  ↳ Validation loss improved; model saved.\n"
     ]
    },
    {
     "name": "stderr",
     "output_type": "stream",
     "text": [
      "Epoch 2 [train]: 100%|██████████| 16/16 [01:05<00:00,  4.07s/batch, train_loss=0.3756]\n",
      "[val]  : 100%|██████████| 4/4 [00:01<00:00,  2.90batch/s, val_loss=0.3867]\n"
     ]
    },
    {
     "name": "stdout",
     "output_type": "stream",
     "text": [
      "Epoch 02: train_loss=0.3601, val_loss=0.4335\n",
      "  ↳ Validation loss improved; model saved.\n"
     ]
    },
    {
     "name": "stderr",
     "output_type": "stream",
     "text": [
      "Epoch 3 [train]: 100%|██████████| 16/16 [01:07<00:00,  4.20s/batch, train_loss=0.2165]\n",
      "[val]  : 100%|██████████| 4/4 [00:01<00:00,  2.94batch/s, val_loss=0.2724]\n"
     ]
    },
    {
     "name": "stdout",
     "output_type": "stream",
     "text": [
      "Epoch 03: train_loss=0.2470, val_loss=0.3347\n",
      "  ↳ Validation loss improved; model saved.\n"
     ]
    },
    {
     "name": "stderr",
     "output_type": "stream",
     "text": [
      "Epoch 4 [train]: 100%|██████████| 16/16 [00:59<00:00,  3.74s/batch, train_loss=0.1692]\n",
      "[val]  : 100%|██████████| 4/4 [00:01<00:00,  3.85batch/s, val_loss=0.2559]\n"
     ]
    },
    {
     "name": "stdout",
     "output_type": "stream",
     "text": [
      "Epoch 04: train_loss=0.2024, val_loss=0.3067\n",
      "  ↳ Validation loss improved; model saved.\n"
     ]
    },
    {
     "name": "stderr",
     "output_type": "stream",
     "text": [
      "Epoch 5 [train]: 100%|██████████| 16/16 [01:01<00:00,  3.84s/batch, train_loss=0.1265]\n",
      "[val]  : 100%|██████████| 4/4 [00:01<00:00,  3.79batch/s, val_loss=0.2416]\n"
     ]
    },
    {
     "name": "stdout",
     "output_type": "stream",
     "text": [
      "Epoch 05: train_loss=0.1637, val_loss=0.2934\n",
      "  ↳ Validation loss improved; model saved.\n"
     ]
    },
    {
     "name": "stderr",
     "output_type": "stream",
     "text": [
      "Epoch 6 [train]: 100%|██████████| 16/16 [01:03<00:00,  3.99s/batch, train_loss=0.1265]\n",
      "[val]  : 100%|██████████| 4/4 [00:01<00:00,  3.01batch/s, val_loss=0.2263]\n"
     ]
    },
    {
     "name": "stdout",
     "output_type": "stream",
     "text": [
      "Epoch 06: train_loss=0.1518, val_loss=0.3297\n",
      "  ↳ No improvement for 1/5 epochs.\n"
     ]
    },
    {
     "name": "stderr",
     "output_type": "stream",
     "text": [
      "Epoch 7 [train]: 100%|██████████| 16/16 [01:00<00:00,  3.80s/batch, train_loss=0.1078]\n",
      "[val]  : 100%|██████████| 4/4 [00:01<00:00,  3.44batch/s, val_loss=0.1796]\n"
     ]
    },
    {
     "name": "stdout",
     "output_type": "stream",
     "text": [
      "Epoch 07: train_loss=0.1328, val_loss=0.2586\n",
      "  ↳ Validation loss improved; model saved.\n"
     ]
    },
    {
     "name": "stderr",
     "output_type": "stream",
     "text": [
      "Epoch 8 [train]: 100%|██████████| 16/16 [01:02<00:00,  3.93s/batch, train_loss=0.1268]\n",
      "[val]  : 100%|██████████| 4/4 [00:01<00:00,  3.01batch/s, val_loss=0.2136]\n"
     ]
    },
    {
     "name": "stdout",
     "output_type": "stream",
     "text": [
      "Epoch 08: train_loss=0.1173, val_loss=0.2886\n",
      "  ↳ No improvement for 1/5 epochs.\n"
     ]
    },
    {
     "name": "stderr",
     "output_type": "stream",
     "text": [
      "Epoch 9 [train]: 100%|██████████| 16/16 [01:04<00:00,  4.03s/batch, train_loss=0.1181]\n",
      "[val]  : 100%|██████████| 4/4 [00:01<00:00,  2.98batch/s, val_loss=0.2303]\n"
     ]
    },
    {
     "name": "stdout",
     "output_type": "stream",
     "text": [
      "Epoch 09: train_loss=0.1080, val_loss=0.2933\n",
      "  ↳ No improvement for 2/5 epochs.\n"
     ]
    },
    {
     "name": "stderr",
     "output_type": "stream",
     "text": [
      "Epoch 10 [train]: 100%|██████████| 16/16 [00:59<00:00,  3.72s/batch, train_loss=0.0968]\n",
      "[val]  : 100%|██████████| 4/4 [00:01<00:00,  3.74batch/s, val_loss=0.1837]\n"
     ]
    },
    {
     "name": "stdout",
     "output_type": "stream",
     "text": [
      "Epoch 10: train_loss=0.0964, val_loss=0.2572\n",
      "  ↳ Validation loss improved; model saved.\n"
     ]
    },
    {
     "name": "stderr",
     "output_type": "stream",
     "text": [
      "Epoch 11 [train]: 100%|██████████| 16/16 [01:01<00:00,  3.82s/batch, train_loss=0.0715]\n",
      "[val]  : 100%|██████████| 4/4 [00:01<00:00,  2.95batch/s, val_loss=0.1706]\n"
     ]
    },
    {
     "name": "stdout",
     "output_type": "stream",
     "text": [
      "Epoch 11: train_loss=0.0798, val_loss=0.2551\n",
      "  ↳ Validation loss improved; model saved.\n"
     ]
    },
    {
     "name": "stderr",
     "output_type": "stream",
     "text": [
      "Epoch 12 [train]: 100%|██████████| 16/16 [01:03<00:00,  3.98s/batch, train_loss=0.0546]\n",
      "[val]  : 100%|██████████| 4/4 [00:01<00:00,  2.92batch/s, val_loss=0.2269]\n"
     ]
    },
    {
     "name": "stdout",
     "output_type": "stream",
     "text": [
      "Epoch 12: train_loss=0.0758, val_loss=0.3049\n",
      "  ↳ No improvement for 1/5 epochs.\n"
     ]
    },
    {
     "name": "stderr",
     "output_type": "stream",
     "text": [
      "Epoch 13 [train]: 100%|██████████| 16/16 [01:05<00:00,  4.08s/batch, train_loss=0.0668]\n",
      "[val]  : 100%|██████████| 4/4 [00:01<00:00,  2.99batch/s, val_loss=0.1712]\n"
     ]
    },
    {
     "name": "stdout",
     "output_type": "stream",
     "text": [
      "Epoch 13: train_loss=0.0827, val_loss=0.2473\n",
      "  ↳ Validation loss improved; model saved.\n"
     ]
    },
    {
     "name": "stderr",
     "output_type": "stream",
     "text": [
      "Epoch 14 [train]: 100%|██████████| 16/16 [01:02<00:00,  3.90s/batch, train_loss=0.0828]\n",
      "[val]  : 100%|██████████| 4/4 [00:01<00:00,  2.96batch/s, val_loss=0.1508]\n"
     ]
    },
    {
     "name": "stdout",
     "output_type": "stream",
     "text": [
      "Epoch 14: train_loss=0.0804, val_loss=0.2493\n",
      "  ↳ No improvement for 1/5 epochs.\n"
     ]
    },
    {
     "name": "stderr",
     "output_type": "stream",
     "text": [
      "Epoch 15 [train]: 100%|██████████| 16/16 [01:04<00:00,  4.05s/batch, train_loss=0.0621]\n",
      "[val]  : 100%|██████████| 4/4 [00:01<00:00,  2.94batch/s, val_loss=0.1805]\n"
     ]
    },
    {
     "name": "stdout",
     "output_type": "stream",
     "text": [
      "Epoch 15: train_loss=0.0677, val_loss=0.2431\n",
      "  ↳ Validation loss improved; model saved.\n"
     ]
    },
    {
     "name": "stderr",
     "output_type": "stream",
     "text": [
      "Epoch 16 [train]: 100%|██████████| 16/16 [01:06<00:00,  4.14s/batch, train_loss=0.0528]\n",
      "[val]  : 100%|██████████| 4/4 [00:01<00:00,  2.92batch/s, val_loss=0.1651]\n"
     ]
    },
    {
     "name": "stdout",
     "output_type": "stream",
     "text": [
      "Epoch 16: train_loss=0.0608, val_loss=0.2408\n",
      "  ↳ Validation loss improved; model saved.\n"
     ]
    },
    {
     "name": "stderr",
     "output_type": "stream",
     "text": [
      "Epoch 17 [train]: 100%|██████████| 16/16 [01:06<00:00,  4.16s/batch, train_loss=0.0748]\n",
      "[val]  : 100%|██████████| 4/4 [00:01<00:00,  2.91batch/s, val_loss=0.1758]\n"
     ]
    },
    {
     "name": "stdout",
     "output_type": "stream",
     "text": [
      "Epoch 17: train_loss=0.0604, val_loss=0.2619\n",
      "  ↳ No improvement for 1/5 epochs.\n"
     ]
    },
    {
     "name": "stderr",
     "output_type": "stream",
     "text": [
      "Epoch 18 [train]: 100%|██████████| 16/16 [01:01<00:00,  3.84s/batch, train_loss=0.0605]\n",
      "[val]  : 100%|██████████| 4/4 [00:01<00:00,  2.94batch/s, val_loss=0.1793]\n"
     ]
    },
    {
     "name": "stdout",
     "output_type": "stream",
     "text": [
      "Epoch 18: train_loss=0.0623, val_loss=0.2444\n",
      "  ↳ No improvement for 2/5 epochs.\n"
     ]
    },
    {
     "name": "stderr",
     "output_type": "stream",
     "text": [
      "Epoch 19 [train]: 100%|██████████| 16/16 [01:03<00:00,  3.97s/batch, train_loss=0.0404]\n",
      "[val]  : 100%|██████████| 4/4 [00:01<00:00,  3.68batch/s, val_loss=0.1558]\n"
     ]
    },
    {
     "name": "stdout",
     "output_type": "stream",
     "text": [
      "Epoch 19: train_loss=0.0566, val_loss=0.2262\n",
      "  ↳ Validation loss improved; model saved.\n"
     ]
    },
    {
     "name": "stderr",
     "output_type": "stream",
     "text": [
      "Epoch 20 [train]: 100%|██████████| 16/16 [01:01<00:00,  3.81s/batch, train_loss=0.0590]\n",
      "[val]  : 100%|██████████| 4/4 [00:01<00:00,  3.71batch/s, val_loss=0.1643]\n"
     ]
    },
    {
     "name": "stdout",
     "output_type": "stream",
     "text": [
      "Epoch 20: train_loss=0.0638, val_loss=0.2424\n",
      "  ↳ No improvement for 1/5 epochs.\n",
      "Training complete. Best val_loss: 0.2262\n",
      "\n",
      "Evaluating on test set...\n"
     ]
    },
    {
     "name": "stderr",
     "output_type": "stream",
     "text": [
      "[val]  : 100%|██████████| 3/3 [00:00<00:00,  4.68batch/s, val_loss=0.0966]"
     ]
    },
    {
     "name": "stdout",
     "output_type": "stream",
     "text": [
      "Test loss: 0.1801\n"
     ]
    },
    {
     "name": "stderr",
     "output_type": "stream",
     "text": [
      "\n"
     ]
    }
   ],
   "source": [
    "if __name__ == \"__main__\":\n",
    "    # ── Hyperparameters ─────────────────────────────────────────────────────────\n",
    "    YAML_PATH   = \"dataset/data.yaml\"   # path to dataset.yaml\n",
    "    BATCH_SIZE  = 8\n",
    "    LR          = 1e-4\n",
    "    WD          = 1e-4\n",
    "    MAX_EPOCHS  = 20\n",
    "    PATIENCE    = 5\n",
    "    SEED        = 42\n",
    "    DEVICE      = torch.device(\"cuda\" if torch.cuda.is_available() else \"cpu\")\n",
    "    # ──────────────────────────────────────────────────────────────────────────────\n",
    "\n",
    "    # Create datasets for each split\n",
    "    train_ds = RGBDDetectionDataset(YAML_PATH, split=\"train\")\n",
    "    val_ds   = RGBDDetectionDataset(YAML_PATH, split=\"val\")\n",
    "    test_ds  = RGBDDetectionDataset(YAML_PATH, split=\"test\")\n",
    "\n",
    "    # Number of classes (add 1 for background)\n",
    "    NUM_CLASSES = train_ds.nc + 1  \n",
    "    print(NUM_CLASSES)\n",
    "    \n",
    "    print(f\"Dataset sizes - Train: {len(train_ds)}, Val: {len(val_ds)}, Test: {len(test_ds)}\")\n",
    "\n",
    "    train_loader = DataLoader(train_ds, batch_size=BATCH_SIZE, shuffle=True,\n",
    "                              num_workers=0, collate_fn=collate_fn)\n",
    "    val_loader   = DataLoader(val_ds,   batch_size=BATCH_SIZE, shuffle=False,\n",
    "                              num_workers=0, collate_fn=collate_fn)\n",
    "    test_loader  = DataLoader(test_ds,  batch_size=BATCH_SIZE, shuffle=False,\n",
    "                              num_workers=0, collate_fn=collate_fn)\n",
    "\n",
    "    model     = build_midfusion_fasterrcnn(NUM_CLASSES).to(DEVICE)\n",
    "    optimizer = AdamW(model.parameters(), lr=LR, weight_decay=WD)\n",
    "\n",
    "    best_val_loss     = float(\"inf\")\n",
    "    epochs_no_improve = 0\n",
    "\n",
    "    for epoch in range(1, MAX_EPOCHS + 1):\n",
    "        tr_loss = train_one_epoch(model, train_loader, optimizer, DEVICE, epoch)\n",
    "        vl_loss = eval_loss(model, val_loader, DEVICE)\n",
    "\n",
    "        print(f\"Epoch {epoch:02d}: train_loss={tr_loss:.4f}, val_loss={vl_loss:.4f}\")\n",
    "\n",
    "        if vl_loss < best_val_loss:\n",
    "            best_val_loss     = vl_loss\n",
    "            epochs_no_improve = 0\n",
    "            torch.save(model.state_dict(), \"midfusion_best1.pth\")\n",
    "            print(\"  ↳ Validation loss improved; model saved.\")\n",
    "        else:\n",
    "            epochs_no_improve += 1\n",
    "            print(f\"  ↳ No improvement for {epochs_no_improve}/{PATIENCE} epochs.\")\n",
    "            if epochs_no_improve >= PATIENCE:\n",
    "                print(f\"Early stopping triggered at epoch {epoch}.\")\n",
    "                break\n",
    "\n",
    "    print(f\"Training complete. Best val_loss: {best_val_loss:.4f}\")\n",
    "    \n",
    "    # Optional: Evaluate on test set\n",
    "    print(\"\\nEvaluating on test set...\")\n",
    "    model.load_state_dict(torch.load(\"midfusion_best1.pth\"))\n",
    "    test_loss = eval_loss(model, test_loader, DEVICE)\n",
    "    print(f\"Test loss: {test_loss:.4f}\")\n"
   ]
  },
  {
   "cell_type": "code",
   "execution_count": 13,
   "id": "56ea4a8b",
   "metadata": {},
   "outputs": [],
   "source": [
    "import matplotlib.pyplot as plt\n",
    "import seaborn as sns\n",
    "from sklearn.metrics import confusion_matrix, classification_report\n",
    "from collections import defaultdict\n",
    "import numpy as np\n",
    "\n",
    "def calculate_iou(box1, box2):\n",
    "    \"\"\"Calculate IoU between two boxes [x1, y1, x2, y2]\"\"\"\n",
    "    x1 = max(box1[0], box2[0])\n",
    "    y1 = max(box1[1], box2[1])\n",
    "    x2 = min(box1[2], box2[2])\n",
    "    y2 = min(box1[3], box2[3])\n",
    "    \n",
    "    if x2 <= x1 or y2 <= y1:\n",
    "        return 0.0\n",
    "    \n",
    "    intersection = (x2 - x1) * (y2 - y1)\n",
    "    area1 = (box1[2] - box1[0]) * (box1[3] - box1[1])\n",
    "    area2 = (box2[2] - box2[0]) * (box2[3] - box2[1])\n",
    "    union = area1 + area2 - intersection\n",
    "    \n",
    "    return intersection / union if union > 0 else 0.0\n",
    "\n",
    "@torch.no_grad()\n",
    "def evaluate_model_for_confusion_matrix(model, dataloader, device, \n",
    "                                      iou_threshold=0.5, confidence_threshold=0.5):\n",
    "    \"\"\"Evaluate model and return predictions and targets for confusion matrix\"\"\"\n",
    "    model.eval()\n",
    "    all_preds = []\n",
    "    all_targets = []\n",
    "    \n",
    "    print(\"Evaluating model...\")\n",
    "    for batch_idx, (rgbs, depths, targets) in enumerate(tqdm(dataloader)):\n",
    "        # Prepare inputs\n",
    "        inputs = [torch.cat([r, d], dim=0).to(device) for r, d in zip(rgbs, depths)]\n",
    "        \n",
    "        # Get predictions\n",
    "        outputs = model(inputs)\n",
    "        \n",
    "        # Process each image in batch\n",
    "        for output, target in zip(outputs, targets):\n",
    "            pred_boxes = output['boxes']\n",
    "            pred_labels = output['labels']  \n",
    "            pred_scores = output['scores']\n",
    "            \n",
    "            target_boxes = target['boxes'].to(device)\n",
    "            target_labels = target['labels'].to(device)\n",
    "            \n",
    "            # Filter predictions by confidence\n",
    "            valid_preds = pred_scores >= confidence_threshold\n",
    "            pred_boxes = pred_boxes[valid_preds]\n",
    "            pred_labels = pred_labels[valid_preds]\n",
    "            pred_scores = pred_scores[valid_preds]\n",
    "            \n",
    "            # Match predictions to targets\n",
    "            used_targets = set()\n",
    "            \n",
    "            # For each prediction, find best matching target\n",
    "            for pred_box, pred_label in zip(pred_boxes, pred_labels):\n",
    "                best_iou = 0\n",
    "                best_target_idx = -1\n",
    "                \n",
    "                for j, (target_box, target_label) in enumerate(zip(target_boxes, target_labels)):\n",
    "                    if j in used_targets:\n",
    "                        continue\n",
    "                    \n",
    "                    iou = calculate_iou(pred_box.cpu().numpy(), target_box.cpu().numpy())\n",
    "                    if iou > best_iou and iou >= iou_threshold:\n",
    "                        best_iou = iou\n",
    "                        best_target_idx = j\n",
    "                \n",
    "                if best_target_idx != -1:\n",
    "                    # True positive - correct detection\n",
    "                    all_preds.append(pred_label.item())\n",
    "                    all_targets.append(target_labels[best_target_idx].item())\n",
    "                    used_targets.add(best_target_idx)\n",
    "                else:\n",
    "                    # False positive - predicted something that doesn't exist\n",
    "                    all_preds.append(pred_label.item())\n",
    "                    all_targets.append(0)  # Background class for FP\n",
    "            \n",
    "            # Add unmatched targets as false negatives\n",
    "            for j, target_label in enumerate(target_labels):\n",
    "                if j not in used_targets:\n",
    "                    all_preds.append(0)  # Background class for FN\n",
    "                    all_targets.append(target_label.item())\n",
    "    \n",
    "    return all_preds, all_targets\n",
    "\n",
    "def plot_confusion_matrix(all_preds, all_targets, class_names):\n",
    "    \"\"\"Plot confusion matrix\"\"\"\n",
    "    # Create class names including background\n",
    "    full_class_names = ['Background'] + class_names\n",
    "    \n",
    "    # Generate confusion matrix\n",
    "    cm = confusion_matrix(all_targets, all_preds, \n",
    "                         labels=range(len(full_class_names)))\n",
    "    \n",
    "    # Plot\n",
    "    plt.figure(figsize=(10, 8))\n",
    "    sns.heatmap(cm, annot=True, fmt='d', cmap='Blues',\n",
    "               xticklabels=full_class_names,\n",
    "               yticklabels=full_class_names)\n",
    "    plt.title('Confusion Matrix')\n",
    "    plt.ylabel('True Label')\n",
    "    plt.xlabel('Predicted Label')\n",
    "    plt.tight_layout()\n",
    "    plt.show()\n",
    "    \n",
    "    # Print classification report\n",
    "    print(\"\\nClassification Report:\")\n",
    "    print(\"=\" * 60)\n",
    "    report = classification_report(\n",
    "        all_targets, all_preds,\n",
    "        labels=range(len(full_class_names)),\n",
    "        target_names=full_class_names,\n",
    "        zero_division=0\n",
    "    )\n",
    "    print(report)\n",
    "    \n",
    "    return cm"
   ]
  },
  {
   "cell_type": "code",
   "execution_count": 18,
   "id": "be39750a",
   "metadata": {},
   "outputs": [
    {
     "name": "stdout",
     "output_type": "stream",
     "text": [
      "Classes: ['bud', 'mouse', 'stepler']\n",
      "Number of classes (including background): 4\n",
      "Creating model architecture...\n"
     ]
    },
    {
     "name": "stderr",
     "output_type": "stream",
     "text": [
      "v:\\model\\myenv\\lib\\site-packages\\torchvision\\models\\_utils.py:208: UserWarning: The parameter 'pretrained' is deprecated since 0.13 and may be removed in the future, please use 'weights' instead.\n",
      "  warnings.warn(\n",
      "v:\\model\\myenv\\lib\\site-packages\\torchvision\\models\\_utils.py:223: UserWarning: Arguments other than a weight enum or `None` for 'weights' are deprecated since 0.13 and may be removed in the future. The current behavior is equivalent to passing `weights=ResNet50_Weights.IMAGENET1K_V1`. You can also use `weights=ResNet50_Weights.DEFAULT` to get the most up-to-date weights.\n",
      "  warnings.warn(msg)\n",
      "v:\\model\\myenv\\lib\\site-packages\\torchvision\\models\\_utils.py:223: UserWarning: Arguments other than a weight enum or `None` for 'weights' are deprecated since 0.13 and may be removed in the future. The current behavior is equivalent to passing `weights=None`.\n",
      "  warnings.warn(msg)\n"
     ]
    },
    {
     "name": "stdout",
     "output_type": "stream",
     "text": [
      "Loading trained weights...\n",
      "✓ Model loaded successfully!\n",
      "Loading test dataset...\n",
      "Looking for images in: dataset\\test\\images\n",
      "Found 18 images\n",
      "Depth dir: dataset\\test\\depth (exists: True)\n",
      "Label dir: dataset\\test\\labels (exists: True)\n",
      "Test dataset size: 18\n",
      "Generating confusion matrix...\n",
      "Evaluating model...\n"
     ]
    },
    {
     "name": "stderr",
     "output_type": "stream",
     "text": [
      "100%|██████████| 5/5 [00:00<00:00,  9.26it/s]\n"
     ]
    },
    {
     "data": {
      "image/png": "[encoded data removed]",
      "text/plain": [
       "<Figure size 1000x800 with 2 Axes>"
      ]
     },
     "metadata": {},
     "output_type": "display_data"
    },
    {
     "name": "stdout",
     "output_type": "stream",
     "text": [
      "\n",
      "Classification Report:\n",
      "============================================================\n",
      "              precision    recall  f1-score   support\n",
      "\n",
      "  Background       0.00      0.00      0.00         0\n",
      "         bud       1.00      1.00      1.00         6\n",
      "       mouse       1.00      1.00      1.00         6\n",
      "     stepler       1.00      1.00      1.00         6\n",
      "\n",
      "    accuracy                           1.00        18\n",
      "   macro avg       0.75      0.75      0.75        18\n",
      "weighted avg       1.00      1.00      1.00        18\n",
      "\n",
      "Confusion matrix generated successfully!\n"
     ]
    }
   ],
   "source": [
    "# Complete code for loading model and generating confusion matrix\n",
    "\n",
    "# Step 1: Load configuration\n",
    "import yaml\n",
    "import torch\n",
    "\n",
    "DEVICE = torch.device(\"cuda\" if torch.cuda.is_available() else \"cpu\")\n",
    "YAML_PATH = \"dataset/data.yaml\"\n",
    "\n",
    "# Load class information\n",
    "try:\n",
    "    with open(YAML_PATH, 'r') as f:\n",
    "        data_yaml = yaml.safe_load(f)\n",
    "    class_names = data_yaml['names']\n",
    "    NUM_CLASSES = data_yaml['nc'] + 1  # +1 for background\n",
    "    print(f\"Classes: {class_names}\")\n",
    "    print(f\"Number of classes (including background): {NUM_CLASSES}\")\n",
    "except:\n",
    "    # Fallback if YAML not available\n",
    "    class_names = ['class1', 'class2', 'class3']  # Replace with your actual class names\n",
    "    NUM_CLASSES = 4  # Replace with your actual number (including background)\n",
    "    print(f\"Using fallback classes: {class_names}\")\n",
    "\n",
    "# Step 2: Recreate model architecture\n",
    "print(\"Creating model architecture...\")\n",
    "model = build_midfusion_fasterrcnn(NUM_CLASSES)\n",
    "\n",
    "# Step 3: Load trained weights\n",
    "print(\"Loading trained weights...\")\n",
    "state_dict = torch.load(\"midfusion_best1.pth\", map_location=DEVICE)\n",
    "model.load_state_dict(state_dict)\n",
    "model.to(DEVICE)\n",
    "model.eval()\n",
    "print(\"✓ Model loaded successfully!\")\n",
    "\n",
    "\n",
    "print(\"Loading test dataset...\")\n",
    "test_dataset = RGBDDetectionDataset(YAML_PATH, split=\"test\")\n",
    "test_loader = DataLoader(test_dataset, batch_size=4, shuffle=False, \n",
    "                        collate_fn=collate_fn, num_workers=0)\n",
    "print(f\"Test dataset size: {len(test_dataset)}\")\n",
    "\n",
    "print(\"Generating confusion matrix...\")\n",
    "all_preds, all_targets = evaluate_model_for_confusion_matrix(\n",
    "    model, test_loader, DEVICE, \n",
    "    iou_threshold=0.5, \n",
    "    confidence_threshold=0.5\n",
    ")\n",
    "\n",
    "if len(all_preds) > 0:\n",
    "    cm = plot_confusion_matrix(all_preds, all_targets, class_names)\n",
    "    print(\"Confusion matrix generated successfully!\")\n",
    "else:\n",
    "    print(\"No predictions found. Check your dataset and thresholds.\")\n",
    "\n",
    "\n",
    "\n",
    "# Example usage for single image test:\n",
    "# test_single_image(model, \"path/to/rgb.png\", \"path/to/depth.png\", DEVICE)"
   ]
  },
  {
   "cell_type": "code",
   "execution_count": 30,
   "id": "708ea32a",
   "metadata": {},
   "outputs": [],
   "source": [
    "# Step 6: Test on a single image (if you want to verify the model works)\n",
    "def test_single_image(model, rgb_path, depth_path, device, save_path=None):\n",
    "    \"\"\"Test model on a single image and draw bounding boxes\"\"\"\n",
    "    import cv2\n",
    "    import matplotlib.pyplot as plt\n",
    "    import matplotlib.patches as patches\n",
    "    \n",
    "    # Load images\n",
    "    rgb = cv2.imread(rgb_path)\n",
    "    if rgb is None:\n",
    "        print(f\"Could not load RGB image: {rgb_path}\")\n",
    "        return\n",
    "    rgb = cv2.cvtColor(rgb, cv2.COLOR_BGR2RGB)\n",
    "    \n",
    "    depth = cv2.imread(depth_path, cv2.IMREAD_GRAYSCALE)\n",
    "    if depth is None:\n",
    "        print(f\"Could not load depth image: {depth_path}\")\n",
    "        return\n",
    "    \n",
    "    if depth.ndim == 2:\n",
    "        depth = depth[..., None]\n",
    "    \n",
    "    # Convert to tensors\n",
    "    rgb_t = torch.from_numpy(rgb.copy()).permute(2, 0, 1).float()\n",
    "    depth_t = torch.from_numpy(depth.copy()).permute(2, 0, 1).float()\n",
    "    \n",
    "    rgb_t = rgb_t / 255.0\n",
    "    depth_t = depth_t / 255.0\n",
    "\n",
    "\n",
    "    # Combine and add batch dimension\n",
    "    input_tensor = torch.cat([rgb_t, depth_t], dim=0).unsqueeze(0).to(device)\n",
    "    \n",
    "    # Get predictions\n",
    "    with torch.no_grad():\n",
    "        predictions = model(input_tensor)[0]\n",
    "    \n",
    "    print(predictions)\n",
    "    \n",
    "    # Draw bounding boxes using OpenCV for saving\n",
    "    rgb_copy = rgb.copy()\n",
    "    for box, label, score in zip(predictions[\"boxes\"], predictions[\"labels\"], predictions[\"scores\"]):\n",
    "\n",
    "        if score < 0.6:  # Skip low confidence predictions\n",
    "            continue\n",
    "        \n",
    "        x1, y1, x2, y2 = box.cpu().numpy().astype(int)\n",
    "        class_idx = label.item() - 1  # Convert back from FasterRCNN format\n",
    "        if 0 <= class_idx < len(class_names):\n",
    "            class_name = class_names[class_idx]\n",
    "        else:\n",
    "            class_name = f\"Class{class_idx}\"\n",
    "        \n",
    "        # Draw rectangle\n",
    "        cv2.rectangle(rgb_copy, (x1, y1), (x2, y2), (255, 0, 0), 2)  # blue box\n",
    "        cv2.putText(rgb_copy, f\"{class_name} {score:.2f}\", \n",
    "                    (x1, y1-10), cv2.FONT_HERSHEY_SIMPLEX, 0.6, (255, 255, 0), 2)\n",
    "    \n",
    "    # Show result with matplotlib\n",
    "    plt.figure(figsize=(12, 8))\n",
    "    plt.imshow(rgb_copy)\n",
    "    plt.axis('off')\n",
    "    plt.title(\"Model Predictions with Bounding Boxes\")\n",
    "    plt.show()\n",
    "    \n",
    "    # Optionally save the image\n",
    "    if save_path:\n",
    "        cv2.imwrite(save_path, cv2.cvtColor(rgb_copy, cv2.COLOR_RGB2BGR))\n",
    "        print(f\"Saved output with boxes at: {save_path}\")\n",
    "    print(class_name)\n",
    "    print(f\"Found {len(predictions['boxes'])} detections\")\n",
    "    print(f\"Confidence scores: {predictions['scores'].cpu().numpy()}\")"
   ]
  },
  {
   "cell_type": "code",
   "execution_count": 39,
   "id": "0877458e",
   "metadata": {},
   "outputs": [
    {
     "ename": "RuntimeError",
     "evalue": "Sizes of tensors must match except in dimension 0. Expected size 467 but got size 480 for tensor number 1 in the list.",
     "output_type": "error",
     "traceback": [
      "\u001b[1;31m---------------------------------------------------------------------------\u001b[0m",
      "\u001b[1;31mRuntimeError\u001b[0m                              Traceback (most recent call last)",
      "Cell \u001b[1;32mIn[39], line 1\u001b[0m\n\u001b[1;32m----> 1\u001b[0m \u001b[43mtest_single_image\u001b[49m\u001b[43m(\u001b[49m\u001b[43mmodel\u001b[49m\u001b[43m,\u001b[49m\u001b[43m \u001b[49m\u001b[38;5;124;43mr\u001b[39;49m\u001b[38;5;124;43m\"\u001b[39;49m\u001b[38;5;124;43mC:\u001b[39;49m\u001b[38;5;124;43m\\\u001b[39;49m\u001b[38;5;124;43mUsers\u001b[39;49m\u001b[38;5;124;43m\\\u001b[39;49m\u001b[38;5;124;43mGuest_\u001b[39;49m\u001b[38;5;124;43m\\\u001b[39;49m\u001b[38;5;124;43mPictures\u001b[39;49m\u001b[38;5;124;43m\\\u001b[39;49m\u001b[38;5;124;43mScreenshots\u001b[39;49m\u001b[38;5;124;43m\\\u001b[39;49m\u001b[38;5;124;43mtest.png\u001b[39;49m\u001b[38;5;124;43m\"\u001b[39;49m\u001b[43m,\u001b[49m\u001b[43m \u001b[49m\u001b[38;5;124;43mr\u001b[39;49m\u001b[38;5;124;43m\"\u001b[39;49m\u001b[38;5;124;43mV:\u001b[39;49m\u001b[38;5;124;43m\\\u001b[39;49m\u001b[38;5;124;43mmodel\u001b[39;49m\u001b[38;5;124;43m\\\u001b[39;49m\u001b[38;5;124;43mtemp\u001b[39;49m\u001b[38;5;124;43m\\\u001b[39;49m\u001b[38;5;124;43mwork\u001b[39;49m\u001b[38;5;124;43m\\\u001b[39;49m\u001b[38;5;124;43mDepth\u001b[39;49m\u001b[38;5;124;43m\\\u001b[39;49m\u001b[38;5;124;43mdepth_4.png\u001b[39;49m\u001b[38;5;124;43m\"\u001b[39;49m\u001b[43m,\u001b[49m\u001b[43m \u001b[49m\u001b[43mDEVICE\u001b[49m\u001b[43m)\u001b[49m\n",
      "Cell \u001b[1;32mIn[30], line 32\u001b[0m, in \u001b[0;36mtest_single_image\u001b[1;34m(model, rgb_path, depth_path, device, save_path)\u001b[0m\n\u001b[0;32m     28\u001b[0m depth_t \u001b[38;5;241m=\u001b[39m depth_t \u001b[38;5;241m/\u001b[39m \u001b[38;5;241m255.0\u001b[39m\n\u001b[0;32m     31\u001b[0m \u001b[38;5;66;03m# Combine and add batch dimension\u001b[39;00m\n\u001b[1;32m---> 32\u001b[0m input_tensor \u001b[38;5;241m=\u001b[39m \u001b[43mtorch\u001b[49m\u001b[38;5;241;43m.\u001b[39;49m\u001b[43mcat\u001b[49m\u001b[43m(\u001b[49m\u001b[43m[\u001b[49m\u001b[43mrgb_t\u001b[49m\u001b[43m,\u001b[49m\u001b[43m \u001b[49m\u001b[43mdepth_t\u001b[49m\u001b[43m]\u001b[49m\u001b[43m,\u001b[49m\u001b[43m \u001b[49m\u001b[43mdim\u001b[49m\u001b[38;5;241;43m=\u001b[39;49m\u001b[38;5;241;43m0\u001b[39;49m\u001b[43m)\u001b[49m\u001b[38;5;241m.\u001b[39munsqueeze(\u001b[38;5;241m0\u001b[39m)\u001b[38;5;241m.\u001b[39mto(device)\n\u001b[0;32m     34\u001b[0m \u001b[38;5;66;03m# Get predictions\u001b[39;00m\n\u001b[0;32m     35\u001b[0m \u001b[38;5;28;01mwith\u001b[39;00m torch\u001b[38;5;241m.\u001b[39mno_grad():\n",
      "\u001b[1;31mRuntimeError\u001b[0m: Sizes of tensors must match except in dimension 0. Expected size 467 but got size 480 for tensor number 1 in the list."
     ]
    }
   ],
   "source": [
    "test_single_image(model, r\"C:\\Users\\Guest_\\Pictures\\Screenshots\\test.png\", r\"V:\\model\\temp\\work\\Depth\\depth_4.png\", DEVICE)"
   ]
  }
 ],
 "metadata": {
  "kernelspec": {
   "display_name": "myenv",
   "language": "python",
   "name": "python3"
  },
  "language_info": {
   "codemirror_mode": {
    "name": "ipython",
    "version": 3
   },
   "file_extension": ".py",
   "mimetype": "text/x-python",
   "name": "python",
   "nbconvert_exporter": "python",
   "pygments_lexer": "ipython3",
   "version": "3.9.2"
  }
 },
 "nbformat": 4,
 "nbformat_minor": 5
}
